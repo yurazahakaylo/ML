{
 "cells": [
  {
   "cell_type": "code",
   "execution_count": 1,
   "metadata": {},
   "outputs": [],
   "source": [
    "import numpy as np\n",
    "import pandas as pd\n",
    "import matplotlib.pyplot as plt\n",
    "from sklearn.model_selection import train_test_split\n",
    "%matplotlib inline"
   ]
  },
  {
   "cell_type": "code",
   "execution_count": 2,
   "metadata": {},
   "outputs": [],
   "source": [
    "# define function to map higher order polynomial features\n",
    "def mapFeature(X1, X2, degree):\n",
    "    res = np.ones(X1.shape[0])\n",
    "    for i in range(1,degree + 1):\n",
    "        for j in range(0,i + 1):\n",
    "            res = np.column_stack((res, (X1 ** (i-j)) * (X2 ** j)))\n",
    "    \n",
    "    res = np.delete(res, 0, 1)\n",
    "    return res"
   ]
  },
  {
   "cell_type": "code",
   "execution_count": 3,
   "metadata": {},
   "outputs": [],
   "source": [
    "def load_datasets(filename, data_columns, target_column):\n",
    "    df = pd.read_csv(filename)\n",
    "    X, y = df[data_columns], df[target_column]\n",
    "    return X, y"
   ]
  },
  {
   "cell_type": "code",
   "execution_count": 4,
   "metadata": {},
   "outputs": [],
   "source": [
    "def plot_data(A, b, test = False):\n",
    "    positive_indices = np.where(b == 1)[0]\n",
    "    negative_indices = np.where(b == 0)[0]\n",
    "    \n",
    "    plt.scatter(A.iloc[positive_indices, 0], A.iloc[positive_indices, 1], marker='x', c= 'yellow' if test else 'green')\n",
    "    plt.scatter(A.iloc[negative_indices, 0], A.iloc[negative_indices, 1], marker='+', c= 'blue' if test else 'red')"
   ]
  },
  {
   "cell_type": "code",
   "execution_count": 5,
   "metadata": {},
   "outputs": [],
   "source": [
    "def decision_boundary(X, y, mean, std, theta, degree):\n",
    "    u = np.linspace(X.min().min(), X.max().max(), 50)\n",
    "    v = np.linspace(X.min().min(), X.max().max(), 50)\n",
    "    U,V = np.meshgrid(u, v)\n",
    "    \n",
    "    # convert U, V to vectors for calculating additional features\n",
    "    # using vectorized implementation\n",
    "    U = np.ravel(U)\n",
    "    V = np.ravel(V)\n",
    "    Z = np.zeros((len(u) * len(v)))\n",
    "    \n",
    "    X_poly = mapFeature(U, V, degree)\n",
    "    X_poly = prepare_X((X_poly-mean)/std)\n",
    "    Z = X_poly.dot(theta)\n",
    "    \n",
    "    # reshape U, V, Z back to matrix\n",
    "    U = U.reshape((len(u), len(v)))\n",
    "    V = V.reshape((len(u), len(v)))\n",
    "    Z = Z.reshape((len(u), len(v)))\n",
    "    \n",
    "    cs = plt.contour(U,V,Z,levels=0,cmap= \"Greys_r\")\n",
    "    return cs"
   ]
  },
  {
   "cell_type": "code",
   "execution_count": 6,
   "metadata": {},
   "outputs": [],
   "source": [
    "def normalize(X):\n",
    "    mean = np.mean(X, axis=0)\n",
    "    std = np.std(X, axis=0)\n",
    "    X_new = (X - mean) / std\n",
    "    return X_new, mean, std"
   ]
  },
  {
   "cell_type": "code",
   "execution_count": 7,
   "metadata": {},
   "outputs": [],
   "source": [
    "def prepare_X(X):\n",
    "    m = X.shape[0]\n",
    "    ones = np.ones((m, 1))\n",
    "    X_new = np.column_stack((ones, X))\n",
    "    return X_new"
   ]
  },
  {
   "cell_type": "code",
   "execution_count": 8,
   "metadata": {},
   "outputs": [],
   "source": [
    "def sigmoid(z):\n",
    "    g = 1 / (1 + np.exp(-z))\n",
    "    return g"
   ]
  },
  {
   "cell_type": "code",
   "execution_count": 9,
   "metadata": {},
   "outputs": [],
   "source": [
    "def h(X, theta):\n",
    "    z = np.dot(X, theta)\n",
    "    return sigmoid(z)"
   ]
  },
  {
   "cell_type": "code",
   "execution_count": 10,
   "metadata": {},
   "outputs": [],
   "source": [
    "def cost_function(X, y, theta):\n",
    "    m = X.shape[0]\n",
    "    if m ==0:\n",
    "        return None\n",
    "    \n",
    "    J = (1 / m) * ((-y.T).dot(np.log(h(X, theta))) - (1 - y).T.dot(np.log(1 - h(X, theta))))\n",
    "    return J"
   ]
  },
  {
   "cell_type": "code",
   "execution_count": 11,
   "metadata": {},
   "outputs": [],
   "source": [
    "def derivative_theta(X, y, theta):\n",
    "    m = X.shape[0]\n",
    "    if m == 0:\n",
    "        return None\n",
    "\n",
    "    d_theta = (1 / m) * X.T.dot(h(X, theta) - y)\n",
    "    \n",
    "    return d_theta"
   ]
  },
  {
   "cell_type": "code",
   "execution_count": 114,
   "metadata": {},
   "outputs": [],
   "source": [
    "def gradient_descent(X, y, theta, alpha, epsilon, num_iters, print_J = True):\n",
    "    m = X.shape[0]\n",
    "    J_history = []\n",
    "    J = cost_function(X, y, theta)\n",
    "    \n",
    "    if print_J == True:\n",
    "        print(J)\n",
    "    J_history.append(J)\n",
    "    for i in range(num_iters):\n",
    "        delta = derivative_theta(X, y, theta)\n",
    "        theta = theta - alpha * delta\n",
    "        \n",
    "        J = cost_function(X, y, theta)\n",
    "        \n",
    "        J_history.append(J)\n",
    "        \n",
    "        if i % 1000 == 0 and print_J == True:\n",
    "            print(J)\n",
    "        \n",
    "        if abs(J-J_history[-2]) < epsilon:\n",
    "            break\n",
    "            \n",
    "    return theta, J_history"
   ]
  },
  {
   "cell_type": "code",
   "execution_count": 13,
   "metadata": {},
   "outputs": [],
   "source": [
    "def predict(X, mean, std, theta, degree):\n",
    "    X = mapFeature(X.iloc[:, 0], X.iloc[:, 1], degree)\n",
    "    X_norm = (X - mean) / std\n",
    "    X_proc = prepare_X(X_norm)\n",
    "    pred = h(X_proc, theta)\n",
    "    y_pred = [1 if (x >= 0.5) else 0 for x in pred]\n",
    "    return y_pred"
   ]
  },
  {
   "cell_type": "code",
   "execution_count": 35,
   "metadata": {},
   "outputs": [
    {
     "name": "stdout",
     "output_type": "stream",
     "text": [
      "Training set: X=(100, 2), y=(100,)\n"
     ]
    }
   ],
   "source": [
    "data_columns = [\"exam1\", \"exam2\"]\n",
    "target_column = \"submitted\"\n",
    "X, y = load_datasets('sats.csv', data_columns, target_column)\n",
    "print('Training set: X={}, y={}'.format(X.shape, y.shape))"
   ]
  },
  {
   "cell_type": "code",
   "execution_count": 74,
   "metadata": {},
   "outputs": [
    {
     "name": "stdout",
     "output_type": "stream",
     "text": [
      "Training set: X=(118, 2), y=(118,)\n"
     ]
    }
   ],
   "source": [
    "# Спробувати на цьому датасеті після написання всіх функцій і відлагодження на попередньому\n",
    "data_columns = [\"test1\", \"test2\"]\n",
    "target_column = \"passed\"\n",
    "X, y = load_datasets('tests.csv', data_columns, target_column)\n",
    "print('Training set: X={}, y={}'.format(X.shape, y.shape))"
   ]
  },
  {
   "cell_type": "code",
   "execution_count": 94,
   "metadata": {},
   "outputs": [],
   "source": [
    "degree = 4 #degree of polynomial 1 for line"
   ]
  },
  {
   "cell_type": "code",
   "execution_count": 95,
   "metadata": {},
   "outputs": [
    {
     "name": "stdout",
     "output_type": "stream",
     "text": [
      "Training set: X=(94, 2), y=(94,)\n",
      "Test set: X=(24, 2), y=(24,)\n"
     ]
    }
   ],
   "source": [
    "X_train, X_test, y_train, y_test = train_test_split(X, y, test_size = 0.2, random_state=0, shuffle = True, stratify = y)\n",
    "print('Training set: X={}, y={}'.format(X_train.shape, y_train.shape))\n",
    "print('Test set: X={}, y={}'.format(X_test.shape, y_test.shape))"
   ]
  },
  {
   "cell_type": "code",
   "execution_count": 96,
   "metadata": {
    "scrolled": true
   },
   "outputs": [
    {
     "data": {
      "image/png": "[encoded data removed]",
      "text/plain": [
       "<Figure size 432x288 with 1 Axes>"
      ]
     },
     "metadata": {
      "needs_background": "light"
     },
     "output_type": "display_data"
    }
   ],
   "source": [
    "plot_data(X, y)"
   ]
  },
  {
   "cell_type": "code",
   "execution_count": 97,
   "metadata": {},
   "outputs": [],
   "source": [
    "X_train_new = mapFeature(X_train.iloc[:, 0], X_train.iloc[:, 1], degree)"
   ]
  },
  {
   "cell_type": "code",
   "execution_count": 98,
   "metadata": {},
   "outputs": [],
   "source": [
    "X_train_new, mean, std = normalize(X_train_new)"
   ]
  },
  {
   "cell_type": "code",
   "execution_count": 99,
   "metadata": {},
   "outputs": [],
   "source": [
    "X_train_new = prepare_X(X_train_new)\n",
    "y_train_new = y_train.values.reshape((X_train_new.shape[0], 1))"
   ]
  },
  {
   "cell_type": "code",
   "execution_count": 100,
   "metadata": {},
   "outputs": [],
   "source": [
    "theta = np.zeros(X_train_new.shape[1]).reshape(X_train_new.shape[1], 1)"
   ]
  },
  {
   "cell_type": "code",
   "execution_count": 101,
   "metadata": {},
   "outputs": [
    {
     "data": {
      "text/plain": [
       "15"
      ]
     },
     "execution_count": 101,
     "metadata": {},
     "output_type": "execute_result"
    }
   ],
   "source": [
    "X_train_new.shape[1]"
   ]
  },
  {
   "cell_type": "code",
   "execution_count": 102,
   "metadata": {},
   "outputs": [
    {
     "data": {
      "text/plain": [
       "array([[0.69314718]])"
      ]
     },
     "execution_count": 102,
     "metadata": {},
     "output_type": "execute_result"
    }
   ],
   "source": [
    "cost_function(X_train_new, y_train_new, theta)"
   ]
  },
  {
   "cell_type": "code",
   "execution_count": 116,
   "metadata": {
    "scrolled": true
   },
   "outputs": [
    {
     "name": "stdout",
     "output_type": "stream",
     "text": [
      "[[-0.55182099]\n",
      " [ 0.81098901]\n",
      " [ 1.42187523]\n",
      " [-0.80215654]\n",
      " [-1.85864869]\n",
      " [-1.55305175]\n",
      " [ 0.5349327 ]\n",
      " [ 0.36118744]\n",
      " [ 1.06138414]\n",
      " [ 0.7555679 ]\n",
      " [-2.11364231]\n",
      " [ 0.77512578]\n",
      " [-0.83255875]\n",
      " [-1.07542063]\n",
      " [-1.82326169]] 10316\n"
     ]
    }
   ],
   "source": [
    "theta_new, Js = gradient_descent(X_train_new, y_train_new, theta, 0.1, 1e-7, 1000000, False)\n",
    "print(theta_new, len(Js))"
   ]
  },
  {
   "cell_type": "code",
   "execution_count": 104,
   "metadata": {},
   "outputs": [
    {
     "data": {
      "text/plain": [
       "array([[0.36860413]])"
      ]
     },
     "execution_count": 104,
     "metadata": {},
     "output_type": "execute_result"
    }
   ],
   "source": [
    "cost_function(X_train_new, y_train_new, theta_new)"
   ]
  },
  {
   "cell_type": "code",
   "execution_count": 105,
   "metadata": {},
   "outputs": [
    {
     "data": {
      "image/png": "[encoded data removed]",
      "text/plain": [
       "<Figure size 432x288 with 1 Axes>"
      ]
     },
     "metadata": {
      "needs_background": "light"
     },
     "output_type": "display_data"
    }
   ],
   "source": [
    "plot_data(X_train, y_train, test = False)\n",
    "decision_boundary(X_train, y_train, mean, std, theta_new, degree)\n",
    "plt.show()"
   ]
  },
  {
   "cell_type": "code",
   "execution_count": 106,
   "metadata": {},
   "outputs": [],
   "source": [
    "y_test_pred = predict(X_test, mean, std, theta_new, degree)"
   ]
  },
  {
   "cell_type": "code",
   "execution_count": 107,
   "metadata": {},
   "outputs": [
    {
     "name": "stdout",
     "output_type": "stream",
     "text": [
      "     y_actual  y_pred\n",
      "94          0       0\n",
      "102         0       0\n",
      "40          1       1\n",
      "53          1       1\n",
      "111         0       0\n",
      "15          1       1\n",
      "5           1       1\n",
      "79          0       0\n",
      "67          0       0\n",
      "58          0       0\n",
      "81          0       0\n",
      "61          0       0\n",
      "97          0       0\n",
      "42          1       1\n",
      "41          1       1\n",
      "17          1       1\n",
      "38          1       1\n",
      "113         0       0\n",
      "31          1       1\n",
      "105         0       0\n",
      "36          1       1\n",
      "4           1       1\n",
      "52          1       1\n",
      "77          0       1\n"
     ]
    }
   ],
   "source": [
    "res = pd.DataFrame({'y_actual' : y_test, 'y_pred' : y_test_pred})\n",
    "print(res)"
   ]
  },
  {
   "cell_type": "code",
   "execution_count": 108,
   "metadata": {},
   "outputs": [
    {
     "data": {
      "image/png": "[encoded data removed]",
      "text/plain": [
       "<Figure size 432x288 with 1 Axes>"
      ]
     },
     "metadata": {
      "needs_background": "light"
     },
     "output_type": "display_data"
    }
   ],
   "source": [
    "plot_data(X_test, y_test, test = False)\n",
    "decision_boundary(X_train, y_train, mean, std, theta_new, degree)\n",
    "plt.show()"
   ]
  },
  {
   "cell_type": "code",
   "execution_count": 109,
   "metadata": {},
   "outputs": [
    {
     "data": {
      "image/png": "[encoded data removed]",
      "text/plain": [
       "<Figure size 432x288 with 1 Axes>"
      ]
     },
     "metadata": {
      "needs_background": "light"
     },
     "output_type": "display_data"
    }
   ],
   "source": [
    "plot_data(X_train, y_train, test = False)\n",
    "plot_data(X_test, y_test, test = True)\n",
    "decision_boundary(X_train, y_train, mean, std, theta_new, degree)\n",
    "plt.show()"
   ]
  },
  {
   "cell_type": "code",
   "execution_count": 110,
   "metadata": {},
   "outputs": [],
   "source": [
    "from sklearn.metrics import mean_squared_error,mean_absolute_error, r2_score"
   ]
  },
  {
   "cell_type": "code",
   "execution_count": 111,
   "metadata": {},
   "outputs": [],
   "source": [
    "rmse = mean_squared_error(y_test, y_test_pred)**0.5\n",
    "mse = mean_squared_error(y_test, y_test_pred)\n",
    "mae = mean_absolute_error(y_test, y_test_pred)\n",
    "r2_s = r2_score(y_test, y_test_pred)"
   ]
  },
  {
   "cell_type": "code",
   "execution_count": 112,
   "metadata": {},
   "outputs": [
    {
     "name": "stdout",
     "output_type": "stream",
     "text": [
      "Logistic Regression\n",
      "RMSE           :  0.2041241452319315\n",
      "MSE            :  0.041666666666666664\n",
      "MAE            :  0.041666666666666664\n",
      "R2             :  0.8333333333333334\n"
     ]
    }
   ],
   "source": [
    "print('Logistic Regression')\n",
    "print('RMSE           : ', rmse)\n",
    "print('MSE            : ', mse)\n",
    "print('MAE            : ', mae)\n",
    "print('R2             : ', r2_s)"
   ]
  },
  {
   "cell_type": "code",
   "execution_count": null,
   "metadata": {},
   "outputs": [],
   "source": []
  },
  {
   "cell_type": "code",
   "execution_count": null,
   "metadata": {},
   "outputs": [],
   "source": []
  }
 ],
 "metadata": {
  "anaconda-cloud": {},
  "kernelspec": {
   "display_name": "Python 3",
   "language": "python",
   "name": "python3"
  },
  "language_info": {
   "codemirror_mode": {
    "name": "ipython",
    "version": 3
   },
   "file_extension": ".py",
   "mimetype": "text/x-python",
   "name": "python",
   "nbconvert_exporter": "python",
   "pygments_lexer": "ipython3",
   "version": "3.7.3"
  }
 },
 "nbformat": 4,
 "nbformat_minor": 1
}
