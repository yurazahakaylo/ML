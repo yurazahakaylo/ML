{
 "cells": [
  {
   "cell_type": "markdown",
   "metadata": {},
   "source": [
    "Додати оптимізацію градієнтного спуску mini-batch."
   ]
  },
  {
   "cell_type": "code",
   "execution_count": 1,
   "metadata": {},
   "outputs": [],
   "source": [
    "import numpy as np\n",
    "import pandas as pd\n",
    "\n",
    "from mpl_toolkits.mplot3d import Axes3D\n",
    "import matplotlib.pyplot as plt\n",
    "from matplotlib.colors import ListedColormap\n",
    "cm_bright = ListedColormap(['#BC371B', '#BC881B', '#4FBC1B'])\n",
    "%matplotlib inline\n",
    "\n",
    "from sklearn.datasets import load_iris\n",
    "from sklearn.model_selection import train_test_split\n",
    "from sklearn.metrics import accuracy_score"
   ]
  },
  {
   "cell_type": "code",
   "execution_count": 2,
   "metadata": {},
   "outputs": [],
   "source": [
    "def plot_data(X, y):\n",
    "    ax = plt.gca()\n",
    "    ax.scatter(X[:,0], X[:,1], c=y, cmap=cm_bright)"
   ]
  },
  {
   "cell_type": "code",
   "execution_count": 3,
   "metadata": {},
   "outputs": [],
   "source": [
    "class NeuralNet:\n",
    "    \"\"\"\n",
    "    NN for multi-class classification with mini-batch\n",
    "    Attributes:\n",
    "    ...\n",
    "    \"\"\"\n",
    "    \n",
    "    def __init__(self, mbgd_size, neurons_in_layers, normalize = True, learning_rate = 0.01, num_iter = 30000):\n",
    "        self.mbgd_size = mbgd_size\n",
    "        self.neurons_in_layers = neurons_in_layers\n",
    "        self.learning_rate = learning_rate\n",
    "        self.num_iter = num_iter\n",
    "        self.normalize = normalize\n",
    "    \n",
    "    def __normalize(self, X, mean = None, std = None):\n",
    "        n = X.shape[0]\n",
    "        m = mean\n",
    "        if m is None:\n",
    "            m = np.mean(X, axis=1).reshape((n, 1))\n",
    "        s = std\n",
    "        if s is None:\n",
    "            s = np.std(X, axis=1).reshape((n, 1))\n",
    "        X_new = (X - m) / s**2\n",
    "        return X_new, m, s\n",
    "    \n",
    "    def __softmax(self, Z):\n",
    "        eZ = np.exp(Z - np.max(Z))\n",
    "        return eZ / np.sum(eZ, axis=0, keepdims=True)\n",
    "\n",
    "    def __initialize_parameters(self):\n",
    "        neurons_in_layers = self.neurons_in_layers\n",
    "        parameters = {}\n",
    "        for i in range(1, len(neurons_in_layers)):\n",
    "            parameters[\"W\" + str(i)] = np.random.randn(neurons_in_layers[i], neurons_in_layers[i - 1]) * np.sqrt(1 / neurons_in_layers[i - 1])\n",
    "            parameters[\"b\" + str(i)] = np.zeros((neurons_in_layers[i], 1))\n",
    "        self.parameters = parameters\n",
    "       \n",
    "    def __forward_propagation(self, X):\n",
    "        parameters = self.parameters\n",
    "        caches = []\n",
    "        A = X\n",
    "        L = len(parameters) // 2\n",
    "\n",
    "        for i in range(1, L):\n",
    "            prev_A = A\n",
    "            W = parameters[\"W\"+str(i)]\n",
    "            b = parameters[\"b\"+str(i)]\n",
    "            \n",
    "            Z = np.dot(W, prev_A) + b\n",
    "            linear_cache = (prev_A, W, b)\n",
    "            \n",
    "            A = self.__softmax(Z)\n",
    "            activation_cache = Z\n",
    "            \n",
    "            cache = (linear_cache, activation_cache)            \n",
    "            caches.append(cache)   \n",
    "            \n",
    "        W = parameters[\"W\"+str(L)]\n",
    "        b = parameters[\"b\"+str(L)]\n",
    "        \n",
    "        Z = np.dot(W, A) + b\n",
    "        linear_cache = (A, W, b)\n",
    "            \n",
    "        AL = self.__softmax(Z)\n",
    "        activation_cache = Z\n",
    "            \n",
    "        cache = (linear_cache, activation_cache)            \n",
    "        caches.append(cache)  \n",
    "        \n",
    "        return AL, caches\n",
    "    \n",
    "    def compute_cost(self, A, Y):\n",
    "        J = -np.mean(Y.T * np.log(A.T+ 1e-8))\n",
    "        return J\n",
    "        \n",
    "    def __backward_propagation(self, X, Y, caches):\n",
    "        grads = {}\n",
    "        AL = X\n",
    "        L = len(caches)\n",
    "        m = AL.shape[1]\n",
    "        Y = Y.reshape(AL.shape)\n",
    "        dAL = -(np.divide(Y, AL) - np.divide(1 - Y, 1 - AL))\n",
    "        \n",
    "        linear_cache, activation_cache = caches[L-1]\n",
    "        Z = activation_cache\n",
    "        s = self.__softmax(Z)\n",
    "        dZ = dAL * s * (1 - s)\n",
    "        prev_A, W, b = linear_cache\n",
    "        m = prev_A.shape[1]\n",
    "        dW = 1 / m * np.dot(dZ, prev_A.T)\n",
    "        db = 1 / m * np.sum(dZ, axis=1, keepdims=True)\n",
    "        prev_dA = np.dot(W.T, dZ)\n",
    "        \n",
    "        grads[\"dA\" + str(L-1)] = prev_dA\n",
    "        grads[\"dW\" + str(L)] = dW\n",
    "        grads[\"db\" + str(L)] = db\n",
    "        \n",
    "        for i in reversed(range(L-1)):\n",
    "            linear_cache, activation_cache = caches[i]\n",
    "            Z = activation_cache\n",
    "            s = self.__softmax(Z)\n",
    "            dZ = prev_dA * s * (1 - s)\n",
    "            prev_A, W, b = linear_cache\n",
    "            m = prev_A.shape[1]\n",
    "            dW = 1 / m * np.dot(dZ, prev_A.T)\n",
    "            db = 1 / m * np.sum(dZ, axis=1, keepdims=True)\n",
    "            prev_dA = np.dot(W.T, dZ)\n",
    "            \n",
    "            grads[\"dA\" + str(i)] = prev_dA\n",
    "            grads[\"dW\" + str(i + 1)] = dW\n",
    "            grads[\"db\" + str(i + 1)] = db\n",
    "        return grads\n",
    "   \n",
    "    def __update_parameters(self, grads):\n",
    "        parameters = self.parameters\n",
    "        learning_rate = self.learning_rate\n",
    "\n",
    "        for i in range(len(parameters) // 2):\n",
    "            parameters[\"W\" + str(i+1)] = parameters[\"W\" + str(i+1)] - learning_rate * grads[\"dW\" + str(i+1)]\n",
    "            parameters[\"b\" + str(i+1)] = parameters[\"b\" + str(i+1)] - learning_rate * grads[\"db\" + str(i+1)]\n",
    "            \n",
    "        self.parameters = parameters\n",
    "        \n",
    "    def __shuffle_and_separate(self, X, Y):            \n",
    "        m = X.shape[1]\n",
    "        SS_data = [] #for shuffled and separated data\n",
    "        mbgd_size = self.mbgd_size\n",
    "        \n",
    "        perm = list(np.random.permutation(m))\n",
    "        shuff_X = X[:, perm]        \n",
    "        shuff_Y = Y[:, perm]\n",
    "\n",
    "        for i in range(0, int(np.floor(m/mbgd_size))):\n",
    "            batch_X = shuff_X[:, i*mbgd_size : (i + 1)*mbgd_size]\n",
    "            batch_Y = shuff_Y[:, i*mbgd_size : (i + 1)*mbgd_size]\n",
    "            \n",
    "            batch = (batch_X, batch_Y)\n",
    "            SS_data.append(batch)\n",
    "\n",
    "        if m % mbgd_size != 0:\n",
    "            batch_X = shuff_X[:, int(np.floor(m/mbgd_size))*mbgd_size:]\n",
    "            batch_Y = shuff_Y[:, int(np.floor(m/mbgd_size))*mbgd_size:]\n",
    "            \n",
    "            batch = (batch_X, batch_Y)\n",
    "            SS_data.append(batch)\n",
    "\n",
    "        return SS_data\n",
    "        \n",
    "    def fit(self, X_vert, Y_vert, print_cost = True):\n",
    "        \n",
    "        X, Y = X_vert.T, Y_vert.T\n",
    "        \n",
    "        if self.normalize:\n",
    "            X, self.__mean, self.__std = self.__normalize(X)\n",
    "        \n",
    "        m = X.shape[1]\n",
    "        costs = []\n",
    "        \n",
    "        self.__initialize_parameters()\n",
    "\n",
    "        for i in range(0, self.num_iter):\n",
    "            SS_data = self.__shuffle_and_separate(X, Y)\n",
    "            \n",
    "            for (batch_X, batch_Y) in SS_data:\n",
    "                A, caches = self.__forward_propagation(batch_X)\n",
    "\n",
    "                cost = self.compute_cost(A, batch_Y)\n",
    "\n",
    "                grads = self.__backward_propagation(A, batch_Y, caches)\n",
    "\n",
    "                self.__update_parameters(grads)\n",
    "            \n",
    "            costs.append(cost)\n",
    "\n",
    "            if print_cost and i % 100 == 0:\n",
    "                print(\"{}-th iteration: {}\".format(i, cost))\n",
    "\n",
    "            if i % 100 == 0:\n",
    "                costs.append(cost)\n",
    "\n",
    "        if print_cost:\n",
    "            plt.plot(costs)\n",
    "            plt.ylabel(\"Cost\")\n",
    "            plt.xlabel(\"Iteration, *100\")\n",
    "            plt.show()\n",
    "    \n",
    "    def predict_proba(self, X_vert):\n",
    "        X = X_vert.T\n",
    "        if self.normalize:\n",
    "            X, _, _ = self.__normalize(X, self.__mean, self.__std)\n",
    "        \n",
    "        probs = self.__forward_propagation(X)[0]\n",
    "        return probs.T\n",
    "    \n",
    "    def predict(self, X_vert):\n",
    "        positive_probs = self.predict_proba(X_vert)\n",
    "        return np.argmax(positive_probs, axis = 1)\n"
   ]
  },
  {
   "cell_type": "markdown",
   "metadata": {},
   "source": [
    "Спочатку спробуйте цей клас на одній задачі, а потім на іншій."
   ]
  },
  {
   "cell_type": "code",
   "execution_count": 4,
   "metadata": {},
   "outputs": [
    {
     "name": "stdout",
     "output_type": "stream",
     "text": [
      "Dataset: X=(150, 4), y=(150,)\n"
     ]
    }
   ],
   "source": [
    "iris = load_iris()\n",
    "X = iris.data\n",
    "Y = iris.target\n",
    "\n",
    "print('Dataset: X={}, y={}'.format(X.shape, Y.shape))"
   ]
  },
  {
   "cell_type": "code",
   "execution_count": 5,
   "metadata": {},
   "outputs": [
    {
     "data": {
      "image/png": "[encoded data removed]",
      "text/plain": [
       "<Figure size 432x288 with 1 Axes>"
      ]
     },
     "metadata": {
      "needs_background": "light"
     },
     "output_type": "display_data"
    }
   ],
   "source": [
    "plot_data(X, Y)"
   ]
  },
  {
   "cell_type": "code",
   "execution_count": 6,
   "metadata": {},
   "outputs": [],
   "source": [
    "cls = NeuralNet(mbgd_size = 1024, neurons_in_layers = [4, 15, 3], normalize = True, learning_rate = 0.1, num_iter = 2000)"
   ]
  },
  {
   "cell_type": "code",
   "execution_count": 7,
   "metadata": {
    "scrolled": true
   },
   "outputs": [
    {
     "data": {
      "text/plain": [
       "((120, 4), (30, 4), (120,), (30,))"
      ]
     },
     "execution_count": 7,
     "metadata": {},
     "output_type": "execute_result"
    }
   ],
   "source": [
    "X_train, X_test, Y_train, Y_test = train_test_split(X, Y, test_size = 0.2, random_state=10)\n",
    "X_train.shape, X_test.shape, Y_train.shape, Y_test.shape"
   ]
  },
  {
   "cell_type": "code",
   "execution_count": 8,
   "metadata": {},
   "outputs": [
    {
     "data": {
      "text/plain": [
       "array([[0., 1., 0.],\n",
       "       [0., 1., 0.],\n",
       "       [0., 0., 1.],\n",
       "       [0., 0., 1.],\n",
       "       [0., 0., 1.],\n",
       "       [1., 0., 0.],\n",
       "       [0., 0., 1.],\n",
       "       [0., 0., 1.],\n",
       "       [0., 0., 1.],\n",
       "       [0., 0., 1.],\n",
       "       [1., 0., 0.],\n",
       "       [1., 0., 0.],\n",
       "       [0., 1., 0.],\n",
       "       [1., 0., 0.],\n",
       "       [0., 1., 0.],\n",
       "       [1., 0., 0.],\n",
       "       [0., 1., 0.],\n",
       "       [0., 1., 0.],\n",
       "       [0., 0., 1.],\n",
       "       [0., 0., 1.],\n",
       "       [0., 1., 0.],\n",
       "       [0., 0., 1.],\n",
       "       [0., 1., 0.],\n",
       "       [0., 1., 0.],\n",
       "       [0., 1., 0.],\n",
       "       [1., 0., 0.],\n",
       "       [1., 0., 0.],\n",
       "       [0., 1., 0.],\n",
       "       [1., 0., 0.],\n",
       "       [0., 0., 1.],\n",
       "       [1., 0., 0.],\n",
       "       [1., 0., 0.],\n",
       "       [0., 0., 1.],\n",
       "       [0., 1., 0.],\n",
       "       [0., 0., 1.],\n",
       "       [1., 0., 0.],\n",
       "       [0., 0., 1.],\n",
       "       [1., 0., 0.],\n",
       "       [0., 1., 0.],\n",
       "       [0., 1., 0.],\n",
       "       [1., 0., 0.],\n",
       "       [0., 0., 1.],\n",
       "       [0., 0., 1.],\n",
       "       [0., 0., 1.],\n",
       "       [0., 0., 1.],\n",
       "       [0., 0., 1.],\n",
       "       [1., 0., 0.],\n",
       "       [0., 1., 0.],\n",
       "       [0., 0., 1.],\n",
       "       [0., 1., 0.],\n",
       "       [1., 0., 0.],\n",
       "       [0., 0., 1.],\n",
       "       [0., 1., 0.],\n",
       "       [0., 1., 0.],\n",
       "       [1., 0., 0.],\n",
       "       [1., 0., 0.],\n",
       "       [1., 0., 0.],\n",
       "       [0., 1., 0.],\n",
       "       [0., 0., 1.],\n",
       "       [0., 0., 1.],\n",
       "       [0., 1., 0.],\n",
       "       [1., 0., 0.],\n",
       "       [1., 0., 0.],\n",
       "       [1., 0., 0.],\n",
       "       [0., 0., 1.],\n",
       "       [0., 0., 1.],\n",
       "       [0., 1., 0.],\n",
       "       [0., 1., 0.],\n",
       "       [0., 0., 1.],\n",
       "       [0., 0., 1.],\n",
       "       [0., 0., 1.],\n",
       "       [0., 0., 1.],\n",
       "       [0., 1., 0.],\n",
       "       [1., 0., 0.],\n",
       "       [1., 0., 0.],\n",
       "       [0., 1., 0.],\n",
       "       [1., 0., 0.],\n",
       "       [1., 0., 0.],\n",
       "       [0., 0., 1.],\n",
       "       [0., 1., 0.],\n",
       "       [1., 0., 0.],\n",
       "       [1., 0., 0.],\n",
       "       [1., 0., 0.],\n",
       "       [0., 1., 0.],\n",
       "       [1., 0., 0.],\n",
       "       [0., 1., 0.],\n",
       "       [1., 0., 0.],\n",
       "       [0., 1., 0.],\n",
       "       [0., 0., 1.],\n",
       "       [1., 0., 0.],\n",
       "       [0., 1., 0.],\n",
       "       [0., 1., 0.],\n",
       "       [0., 0., 1.],\n",
       "       [1., 0., 0.],\n",
       "       [0., 0., 1.],\n",
       "       [1., 0., 0.],\n",
       "       [0., 1., 0.],\n",
       "       [0., 1., 0.],\n",
       "       [0., 0., 1.],\n",
       "       [0., 0., 1.],\n",
       "       [1., 0., 0.],\n",
       "       [0., 1., 0.],\n",
       "       [0., 0., 1.],\n",
       "       [0., 0., 1.],\n",
       "       [0., 1., 0.],\n",
       "       [0., 1., 0.],\n",
       "       [0., 0., 1.],\n",
       "       [1., 0., 0.],\n",
       "       [0., 0., 1.],\n",
       "       [1., 0., 0.],\n",
       "       [1., 0., 0.],\n",
       "       [0., 1., 0.],\n",
       "       [1., 0., 0.],\n",
       "       [0., 0., 1.],\n",
       "       [0., 0., 1.],\n",
       "       [0., 0., 1.],\n",
       "       [0., 1., 0.],\n",
       "       [1., 0., 0.],\n",
       "       [0., 0., 1.],\n",
       "       [1., 0., 0.]])"
      ]
     },
     "execution_count": 8,
     "metadata": {},
     "output_type": "execute_result"
    }
   ],
   "source": [
    "Y_train_transf = np.zeros([len(Y_train), 3])\n",
    "for i in range(0, len(Y_train)):\n",
    "    for j in range(0, 3):\n",
    "        if Y_train[i] == j:\n",
    "            Y_train_transf[i][j] = 1\n",
    "\n",
    "Y_train_transf"
   ]
  },
  {
   "cell_type": "code",
   "execution_count": 9,
   "metadata": {},
   "outputs": [
    {
     "name": "stdout",
     "output_type": "stream",
     "text": [
      "0-th iteration: 0.3654264938989841\n",
      "100-th iteration: 0.27456438123169347\n",
      "200-th iteration: 0.20142393397994596\n",
      "300-th iteration: 0.16810145465458984\n",
      "400-th iteration: 0.15135777355287144\n",
      "500-th iteration: 0.13995806243077508\n",
      "600-th iteration: 0.1292601082390573\n",
      "700-th iteration: 0.1170740251627617\n",
      "800-th iteration: 0.10490675557471084\n",
      "900-th iteration: 0.09447305223111574\n",
      "1000-th iteration: 0.08471936137136485\n",
      "1100-th iteration: 0.07636282653815855\n",
      "1200-th iteration: 0.06951254700210446\n",
      "1300-th iteration: 0.0635319873223483\n",
      "1400-th iteration: 0.05652075903311395\n",
      "1500-th iteration: 0.04646163483014174\n",
      "1600-th iteration: 0.04272212705116011\n",
      "1700-th iteration: 0.040179209938472946\n",
      "1800-th iteration: 0.03818522790085597\n",
      "1900-th iteration: 0.036549655358775565\n"
     ]
    },
    {
     "data": {
      "image/png": "[encoded data removed]",
      "text/plain": [
       "<Figure size 432x288 with 1 Axes>"
      ]
     },
     "metadata": {
      "needs_background": "light"
     },
     "output_type": "display_data"
    }
   ],
   "source": [
    "cls.fit(X_train, Y_train_transf)"
   ]
  },
  {
   "cell_type": "code",
   "execution_count": 10,
   "metadata": {},
   "outputs": [
    {
     "name": "stdout",
     "output_type": "stream",
     "text": [
      "{'W1': array([[-2.68669161e-01,  1.68688635e-01, -4.11877983e-01,\n",
      "         9.00808790e-03],\n",
      "       [ 4.18176465e-02, -2.58074365e-01, -9.56937259e-01,\n",
      "        -5.53167611e-01],\n",
      "       [ 7.98038750e-01,  6.46456428e-01, -5.04469599e-01,\n",
      "         1.03205202e+00],\n",
      "       [ 1.50980894e-01, -7.17721330e-02, -2.74261583e-01,\n",
      "        -4.41739594e-02],\n",
      "       [ 5.45814311e-02,  2.34945894e-01, -1.84237454e-01,\n",
      "         2.92009257e-01],\n",
      "       [ 4.39633131e-01, -1.58764195e+00,  3.69709124e-01,\n",
      "         9.93377579e-01],\n",
      "       [ 5.08313913e-01, -2.53793255e-01, -9.06851247e-01,\n",
      "        -3.44331317e-02],\n",
      "       [ 7.08017165e-01,  1.28000035e-01, -5.87095982e-05,\n",
      "         5.25107206e-02],\n",
      "       [ 1.39464750e+00, -1.61769050e+00,  6.53920302e-01,\n",
      "         3.38697739e-01],\n",
      "       [ 4.32770633e-01,  3.99794645e-01,  3.25422714e-01,\n",
      "        -6.81569150e-01],\n",
      "       [-2.18987677e-01,  2.13025688e-01, -2.17308626e-01,\n",
      "        -5.70686118e-01],\n",
      "       [-1.31499672e+00,  3.21174504e-01, -1.50090225e+00,\n",
      "        -2.63320220e+00],\n",
      "       [-4.24716607e-01, -5.38142530e-02, -4.70455605e-01,\n",
      "        -1.13958088e+00],\n",
      "       [ 1.37631521e+00, -1.86620643e+00,  2.71402894e+00,\n",
      "         3.50391713e+00],\n",
      "       [ 3.87465277e-01,  2.16222686e-01,  4.18162533e-01,\n",
      "        -4.24658660e-01]]), 'b1': array([[ 0.07301577],\n",
      "       [ 0.07387913],\n",
      "       [ 0.12624697],\n",
      "       [ 0.10308224],\n",
      "       [ 0.11983308],\n",
      "       [ 0.23113197],\n",
      "       [ 0.09963421],\n",
      "       [-0.12801422],\n",
      "       [ 2.6551164 ],\n",
      "       [ 0.06272422],\n",
      "       [ 0.04614235],\n",
      "       [ 0.87897096],\n",
      "       [ 0.16874747],\n",
      "       [-0.25247294],\n",
      "       [ 0.13305914]]), 'W2': array([[-0.33890522, -0.13500188, -0.59956474, -0.48885536, -0.01023878,\n",
      "        -0.74641773, -0.04568407, -0.01255911, -1.30340045, -0.23198083,\n",
      "         0.10173173,  4.23262194,  0.32676583, -2.2946272 ,  0.01843785],\n",
      "       [ 0.09145104,  0.20909411, -0.22665446,  0.31778239,  0.5726135 ,\n",
      "         0.24883755,  0.30630814, -0.15490226,  2.59339479,  0.19325737,\n",
      "         0.21622987, -2.18467954,  0.07951474, -2.23251865,  0.59698682],\n",
      "       [-0.48325745, -0.39980583,  0.5416203 , -0.16405197, -0.28225727,\n",
      "         0.32138086, -0.40482842, -0.14098237, -1.12600522, -0.33066058,\n",
      "        -0.22735082, -1.74159411, -0.5624621 ,  3.69580766, -0.16627651]]), 'b2': array([[-0.67187987],\n",
      "       [ 1.04355572],\n",
      "       [-0.37167585]])}\n"
     ]
    }
   ],
   "source": [
    "print(cls.parameters)"
   ]
  },
  {
   "cell_type": "code",
   "execution_count": 11,
   "metadata": {},
   "outputs": [
    {
     "data": {
      "text/plain": [
       "array([[0.00733884, 0.96528521, 0.02737594],\n",
       "       [0.00796886, 0.96689739, 0.02513375],\n",
       "       [0.01210767, 0.30096935, 0.68692298],\n",
       "       [0.00196868, 0.01213538, 0.98589594],\n",
       "       [0.00322825, 0.02758435, 0.9691874 ],\n",
       "       [0.9872807 , 0.00924112, 0.00347819],\n",
       "       [0.00379212, 0.02875451, 0.96745337],\n",
       "       [0.00214137, 0.01371336, 0.98414527],\n",
       "       [0.0018759 , 0.01128072, 0.98684339],\n",
       "       [0.00217623, 0.01423791, 0.98358585],\n",
       "       [0.9865864 , 0.0097682 , 0.0036454 ],\n",
       "       [0.98574411, 0.01040697, 0.00384893],\n",
       "       [0.01324904, 0.92951268, 0.05723828],\n",
       "       [0.93699337, 0.05226274, 0.0107439 ],\n",
       "       [0.04533338, 0.78706043, 0.16760619],\n",
       "       [0.98738619, 0.00915953, 0.00345428],\n",
       "       [0.013656  , 0.86633473, 0.12000927],\n",
       "       [0.02777503, 0.42167793, 0.55054703],\n",
       "       [0.00336315, 0.02820742, 0.96842944],\n",
       "       [0.00205285, 0.01257394, 0.9853732 ],\n",
       "       [0.01414689, 0.45669594, 0.52915718],\n",
       "       [0.00564752, 0.03679799, 0.95755449],\n",
       "       [0.00554166, 0.98276928, 0.01168905],\n",
       "       [0.01383095, 0.86080233, 0.12536672],\n",
       "       [0.02454232, 0.88400486, 0.09145282],\n",
       "       [0.98646608, 0.00985233, 0.00368159],\n",
       "       [0.9870386 , 0.00942346, 0.00353794],\n",
       "       [0.01103426, 0.92337338, 0.06559236],\n",
       "       [0.98651682, 0.00982121, 0.00366197],\n",
       "       [0.00772635, 0.10467335, 0.8876003 ],\n",
       "       [0.98718801, 0.00931165, 0.00350034],\n",
       "       [0.98719321, 0.00930794, 0.00349885],\n",
       "       [0.01171683, 0.20371256, 0.78457061],\n",
       "       [0.00874163, 0.97446265, 0.01679572],\n",
       "       [0.00197635, 0.01221217, 0.98581148],\n",
       "       [0.98741147, 0.00914127, 0.00344726],\n",
       "       [0.00268584, 0.01998119, 0.97733297],\n",
       "       [0.98661624, 0.00974965, 0.00363412],\n",
       "       [0.00667957, 0.97640745, 0.01691298],\n",
       "       [0.01282528, 0.32348781, 0.66368691],\n",
       "       [0.98738623, 0.00916084, 0.00345293],\n",
       "       [0.00210541, 0.01335636, 0.98453823],\n",
       "       [0.07013633, 0.56919236, 0.3606713 ],\n",
       "       [0.00606804, 0.07714118, 0.91679077],\n",
       "       [0.00211738, 0.01379081, 0.9840918 ],\n",
       "       [0.01479736, 0.6840858 , 0.30111683],\n",
       "       [0.98728397, 0.0092383 , 0.00347773],\n",
       "       [0.00568331, 0.98373472, 0.01058197],\n",
       "       [0.00320395, 0.02749992, 0.96929613],\n",
       "       [0.00915192, 0.96262256, 0.02822552],\n",
       "       [0.98690996, 0.00952404, 0.003566  ],\n",
       "       [0.00227365, 0.01543683, 0.98228952],\n",
       "       [0.01360558, 0.93755808, 0.04883634],\n",
       "       [0.01207542, 0.95697279, 0.03095179],\n",
       "       [0.98726219, 0.00925444, 0.00348337],\n",
       "       [0.98621663, 0.01004228, 0.00374109],\n",
       "       [0.98672993, 0.00965644, 0.00361363],\n",
       "       [0.02919694, 0.85597531, 0.11482775],\n",
       "       [0.0027775 , 0.02172795, 0.97549455],\n",
       "       [0.00504746, 0.05740451, 0.93754803],\n",
       "       [0.00933489, 0.94994057, 0.04072454],\n",
       "       [0.987124  , 0.0093598 , 0.00351621],\n",
       "       [0.9872476 , 0.00926499, 0.00348741],\n",
       "       [0.98692133, 0.00951324, 0.00356543],\n",
       "       [0.00213682, 0.01389212, 0.98397106],\n",
       "       [0.00373552, 0.03427894, 0.96198554],\n",
       "       [0.00725794, 0.96985022, 0.02289184],\n",
       "       [0.00613404, 0.97863596, 0.01523   ],\n",
       "       [0.00540483, 0.051749  , 0.94284617],\n",
       "       [0.0033407 , 0.02859786, 0.96806143],\n",
       "       [0.00885697, 0.12929611, 0.86184693],\n",
       "       [0.01475948, 0.65009746, 0.33514306],\n",
       "       [0.00732122, 0.96905375, 0.02362503],\n",
       "       [0.98693923, 0.00950012, 0.00356064],\n",
       "       [0.98725645, 0.00925922, 0.00348434],\n",
       "       [0.00887247, 0.95816015, 0.03296738],\n",
       "       [0.98546606, 0.01062267, 0.00391126],\n",
       "       [0.9874743 , 0.00909361, 0.00343209],\n",
       "       [0.00950795, 0.15285507, 0.83763698],\n",
       "       [0.00699261, 0.978143  , 0.01486438],\n",
       "       [0.98570943, 0.01042746, 0.00386311],\n",
       "       [0.98700651, 0.00944865, 0.00354485],\n",
       "       [0.98663103, 0.00973349, 0.00363548],\n",
       "       [0.00881395, 0.97446641, 0.01671964],\n",
       "       [0.98552536, 0.01057536, 0.00389928],\n",
       "       [0.01097781, 0.94920568, 0.03981651],\n",
       "       [0.98710608, 0.00937504, 0.00351888],\n",
       "       [0.00880278, 0.95333009, 0.03786713],\n",
       "       [0.01196991, 0.2868948 , 0.70113529],\n",
       "       [0.98700003, 0.00945527, 0.0035447 ],\n",
       "       [0.01396411, 0.8861091 , 0.09992679],\n",
       "       [0.00650052, 0.97502399, 0.01847548],\n",
       "       [0.00606045, 0.04215736, 0.95178219],\n",
       "       [0.98651756, 0.00982629, 0.00365615],\n",
       "       [0.01046474, 0.17450551, 0.81502975],\n",
       "       [0.9874213 , 0.00913436, 0.00344434],\n",
       "       [0.00600369, 0.97962367, 0.01437264],\n",
       "       [0.01257961, 0.30070795, 0.68671244],\n",
       "       [0.00196529, 0.01218309, 0.98585161],\n",
       "       [0.00349393, 0.02265365, 0.97385242],\n",
       "       [0.98700926, 0.00944227, 0.00354847],\n",
       "       [0.00508403, 0.98308266, 0.01183331],\n",
       "       [0.00218014, 0.01449825, 0.98332161],\n",
       "       [0.00358446, 0.03331688, 0.96309866],\n",
       "       [0.02845028, 0.92903074, 0.04251898],\n",
       "       [0.01309163, 0.81561989, 0.17128848],\n",
       "       [0.00205487, 0.01252606, 0.98541907],\n",
       "       [0.98644486, 0.00986956, 0.00368558],\n",
       "       [0.00235615, 0.01546811, 0.98217574],\n",
       "       [0.98705937, 0.0094085 , 0.00353213],\n",
       "       [0.98712831, 0.00935622, 0.00351547],\n",
       "       [0.00688398, 0.97227677, 0.02083925],\n",
       "       [0.98716398, 0.00933103, 0.00350499],\n",
       "       [0.00209392, 0.01345306, 0.98445301],\n",
       "       [0.0057754 , 0.0733126 , 0.920912  ],\n",
       "       [0.00267176, 0.01984409, 0.97748415],\n",
       "       [0.01578738, 0.95522908, 0.02898354],\n",
       "       [0.98514348, 0.01082806, 0.00402847],\n",
       "       [0.00627067, 0.07681357, 0.91691576],\n",
       "       [0.98711062, 0.00937103, 0.00351834]])"
      ]
     },
     "execution_count": 11,
     "metadata": {},
     "output_type": "execute_result"
    }
   ],
   "source": [
    "Y_prob = cls.predict_proba(X_train)\n",
    "Y_prob"
   ]
  },
  {
   "cell_type": "code",
   "execution_count": 12,
   "metadata": {},
   "outputs": [
    {
     "data": {
      "text/plain": [
       "array([1, 1, 2, 2, 2, 0, 2, 2, 2, 2, 0, 0, 1, 0, 1, 0, 1, 2, 2, 2, 2, 2,\n",
       "       1, 1, 1, 0, 0, 1, 0, 2, 0, 0, 2, 1, 2, 0, 2, 0, 1, 2, 0, 2, 1, 2,\n",
       "       2, 1, 0, 1, 2, 1, 0, 2, 1, 1, 0, 0, 0, 1, 2, 2, 1, 0, 0, 0, 2, 2,\n",
       "       1, 1, 2, 2, 2, 1, 1, 0, 0, 1, 0, 0, 2, 1, 0, 0, 0, 1, 0, 1, 0, 1,\n",
       "       2, 0, 1, 1, 2, 0, 2, 0, 1, 2, 2, 2, 0, 1, 2, 2, 1, 1, 2, 0, 2, 0,\n",
       "       0, 1, 0, 2, 2, 2, 1, 0, 2, 0], dtype=int64)"
      ]
     },
     "execution_count": 12,
     "metadata": {},
     "output_type": "execute_result"
    }
   ],
   "source": [
    "Y_train_hat = cls.predict(X_train)\n",
    "Y_train_hat"
   ]
  },
  {
   "cell_type": "code",
   "execution_count": 13,
   "metadata": {},
   "outputs": [
    {
     "data": {
      "text/plain": [
       "0.9416666666666667"
      ]
     },
     "execution_count": 13,
     "metadata": {},
     "output_type": "execute_result"
    }
   ],
   "source": [
    "accuracy_score(Y_train, Y_train_hat)"
   ]
  },
  {
   "cell_type": "code",
   "execution_count": 14,
   "metadata": {},
   "outputs": [
    {
     "data": {
      "text/plain": [
       "array([1, 2, 0, 1, 0, 1, 1, 1, 0, 1, 1, 2, 1, 0, 0, 2, 1, 0, 0, 0, 2, 2,\n",
       "       2, 0, 1, 0, 1, 1, 1, 2], dtype=int64)"
      ]
     },
     "execution_count": 14,
     "metadata": {},
     "output_type": "execute_result"
    }
   ],
   "source": [
    "Y_test_hat = cls.predict(X_test)\n",
    "Y_test_hat"
   ]
  },
  {
   "cell_type": "code",
   "execution_count": 15,
   "metadata": {},
   "outputs": [
    {
     "data": {
      "text/plain": [
       "1.0"
      ]
     },
     "execution_count": 15,
     "metadata": {},
     "output_type": "execute_result"
    }
   ],
   "source": [
    "accuracy_score(Y_test, Y_test_hat)"
   ]
  }
 ],
 "metadata": {
  "anaconda-cloud": {},
  "kernelspec": {
   "display_name": "Python 3",
   "language": "python",
   "name": "python3"
  },
  "language_info": {
   "codemirror_mode": {
    "name": "ipython",
    "version": 3
   },
   "file_extension": ".py",
   "mimetype": "text/x-python",
   "name": "python",
   "nbconvert_exporter": "python",
   "pygments_lexer": "ipython3",
   "version": "3.6.8"
  }
 },
 "nbformat": 4,
 "nbformat_minor": 1
}
