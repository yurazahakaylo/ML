{
 "cells": [
  {
   "cell_type": "markdown",
   "metadata": {},
   "source": [
    "В цій практичній роботі ми спробуємо реалізувати нейронну мережу з двох шарів (прихований і вихідний). Запропонований підхід стане заготовкою для реалізації наступних оптимізацій: MBGD, ADAM та регуляризації. \n",
    "\n",
    "Сьогодні ж вам пропонується додати до цього класу підтримку довільної кількості шарів та нейронів в них (наприклад, передавати їх параметром в конструктор, як це робиться в MLPClassifier за допомогою hidden_layer_sizes). Також потрібно передбачити можливість ранньої зупинки ітераційного процесу, якщо значення штрафної функції не покращуватиметься протягом певної кількості ітерацій. Наприклад, якщо протягом $k$ ітерацій штрафна функція за модулем не стане меншою, ніж на поточному кроці."
   ]
  },
  {
   "cell_type": "code",
   "execution_count": 1,
   "metadata": {},
   "outputs": [
    {
     "name": "stderr",
     "output_type": "stream",
     "text": [
      "Using TensorFlow backend.\n"
     ]
    }
   ],
   "source": [
    "import numpy as np\n",
    "import pandas as pd\n",
    "from sklearn.model_selection import train_test_split\n",
    "from mpl_toolkits.mplot3d import Axes3D\n",
    "import matplotlib.pyplot as plt\n",
    "\n",
    "from matplotlib.colors import ListedColormap\n",
    "cm_bright = ListedColormap(['#FF0000', '#0000FF'])\n",
    "%matplotlib inline\n",
    "from sklearn.metrics import accuracy_score\n",
    "from keras.utils import to_categorical\n",
    "\n",
    "import sklearn.linear_model"
   ]
  },
  {
   "cell_type": "code",
   "execution_count": 2,
   "metadata": {},
   "outputs": [],
   "source": [
    "class NeuralNet:\n",
    "    \n",
    "    \n",
    "    def __init__(self, normalize = True, learning_rate = 0.01, max_iter = 30000, hidden_layer_sizes=(100,), beta=0.999, epsilon=1e-8, tol=1e-6):\n",
    "        self.learning_rate = learning_rate\n",
    "        self.max_iter = max_iter\n",
    "        self.normalize = normalize\n",
    "        self.hidden_layer_sizes = hidden_layer_sizes\n",
    "        self.n_layers = 1 + len(hidden_layer_sizes)\n",
    "        self.epsilon = epsilon\n",
    "        self.tol = tol\n",
    "        self.beta = beta\n",
    "    \n",
    "    def __normalize(self, X, mean = None, std = None):\n",
    "        n = X.shape[0]\n",
    "        m = mean\n",
    "        if m is None:\n",
    "            m = np.mean(X, axis=1).reshape((n, 1))\n",
    "        s = std\n",
    "        if s is None:\n",
    "            s = np.std(X, axis=1).reshape((n, 1))\n",
    "        X_new = (X - m) / s**2\n",
    "        return X_new, m, s\n",
    "\n",
    "    def __sigmoid(self, Z):\n",
    "        return 1 / (1 + np.exp(-Z))\n",
    "    \n",
    "    def softmax(self, Z):\n",
    "        expZ = np.exp(Z - np.max(Z))\n",
    "        return expZ / expZ.sum(axis=0, keepdims=True)\n",
    "    \n",
    "    def __initialize_parameters(self, n_x, hidden_layers, n_y):\n",
    "        np.random.seed(1)\n",
    "        W = list()\n",
    "        b = list()\n",
    "        \n",
    "        h = list(hidden_layers)\n",
    "        h.insert(0, n_x)\n",
    "        h.append(n_y)\n",
    "        hidden_layers = tuple(h)\n",
    "        \n",
    "        for i in range(1, self.n_layers+1):\n",
    "            W.append(np.random.randn(hidden_layers[i], hidden_layers[i-1]) / np.sqrt(\n",
    "                hidden_layers[i - 1]))\n",
    "            b.append(np.zeros((hidden_layers[i], 1)))\n",
    "\n",
    "        self.parameters = {\"W\" : W, \"b\" : b}\n",
    "    \n",
    "    def __forward_propagation(self, X):\n",
    "        W = self.parameters[\"W\"]\n",
    "        b = self.parameters[\"b\"]\n",
    "\n",
    "        A = list()\n",
    "        Z = list()\n",
    "               \n",
    "        for i in range(0, self.n_layers-1):\n",
    "            if i == 0:\n",
    "                Z.append(np.dot(W[i], X) + b[i])\n",
    "            else:\n",
    "                Z.append(np.dot(W[i], A[i-1]) + b[i])\n",
    "            A.append(self.__sigmoid(Z[i]))\n",
    "        \n",
    "        Z.append(np.dot(W[-1], A[-1]) + b[-1])\n",
    "        A.append(self.softmax(Z[-1]))\n",
    "        \n",
    "        cache = (W, b, Z, A)\n",
    "\n",
    "        return A[-1], cache\n",
    "    \n",
    "    def __sigmoid_derivative(self, Z):\n",
    "        s = 1 / (1 + np.exp(-Z))\n",
    "        return np.multiply(s, (1 - s))\n",
    "    \n",
    "    def cross_entropy(self, A, Y):\n",
    "        return - np.sum(np.log(A) * (Y), axis=1)\n",
    "    \n",
    "    def compute_cost(self, A, Y):\n",
    "        J = -np.mean(Y.T * np.log(A.T+ 1e-8))\n",
    "        return J\n",
    "        \n",
    "    def __backward_propagation(self, X, Y, cache):\n",
    "        m = X.shape[1]\n",
    "        n = X.shape[0]\n",
    "        (W, b, Z, A) = cache\n",
    "        \n",
    "        dW = [None] * (self.n_layers)\n",
    "        dA = [None] * (self.n_layers)\n",
    "        dZ = [None] * (self.n_layers)\n",
    "        db = [None] * (self.n_layers)\n",
    "        \n",
    "        dZ[-1] = (A[-1] - Y)\n",
    "        dW[-1] = (1. / m * np.dot(dZ[-1], A[-2].T))\n",
    "        db[-1] = (1. / m * np.sum(dZ[-1], axis = 1, keepdims = True))\n",
    "        dA[-1] = np.dot(W[-1].T, dZ[-1])\n",
    "        \n",
    "        for i in range(self.n_layers-1, 0, -1):\n",
    "            dZ[i-1] = np.multiply(dA[i], self.__sigmoid_derivative(Z[i-1]))\n",
    "            if i-1 == 0:\n",
    "                dW[i-1] = 1. / m * np.dot(dZ[i-1], X.T)\n",
    "            else:\n",
    "                dW[i-1] = 1. / m * np.dot(dZ[i-1], A[i-2].T)\n",
    "            db[i-1] = 1. / m * np.sum(dZ[i-1], axis = 1, keepdims = True) \n",
    "            dA[i-1] = np.dot(W[i-1].T, dZ[i-1])\n",
    "        \n",
    "        grads = {\"dZ\" : dZ, \"dW\" : dW, \"db\" : db}\n",
    "        return grads\n",
    "    \n",
    "    def __update_parameters(self, grads):\n",
    "        W = self.parameters[\"W\"]\n",
    "        b = self.parameters[\"b\"]\n",
    "\n",
    "        dW = grads[\"dW\"]\n",
    "        db = grads[\"db\"]\n",
    "        \n",
    "        for i in range(self.n_layers):\n",
    "            self.S_dW[i] = self.beta * self.S_dW[i] + (1 - self.beta) * np.power(dW[i], 2)\n",
    "            self.S_db[i] = self.beta * self.S_db[i] + (1 - self.beta) * np.power(db[i], 2)\n",
    "            W[i] = W[i] - self.learning_rate * dW[i] / (np.sqrt(self.S_dW[i]) + self.epsilon)\n",
    "            b[i] = b[i] - self.learning_rate * db[i] / (np.sqrt(self.S_db[i]) + self.epsilon)\n",
    "            \n",
    "        self.parameters = {\"W\" : W, \"b\" : b}\n",
    "\n",
    "    def fit(self, X_vert, Y_vert, print_cost = True):\n",
    "        self.n_iter = 0\n",
    "        X, Y = X_vert.T, Y_vert.T\n",
    "        \n",
    "        if self.normalize:\n",
    "            X, self.__mean, self.__std = self.__normalize(X)\n",
    "        \n",
    "        costs = []\n",
    "        cost_history = []\n",
    "        \n",
    "        m = X.shape[1]\n",
    "        n_x = X.shape[0]\n",
    "        n_y = Y.shape[0]\n",
    "        \n",
    "        self.__initialize_parameters(n_x, self.hidden_layer_sizes, n_y)\n",
    "\n",
    "        self.S_dW = list()\n",
    "        self.S_db = list()\n",
    "        h = list(self.hidden_layer_sizes)\n",
    "        h.insert(0, n_x)\n",
    "        h.append(n_y)\n",
    "        hidden_layers = tuple(h)\n",
    "        for i in range(1, self.n_layers+1):\n",
    "            self.S_dW.append(np.zeros((hidden_layers[i], hidden_layers[i-1])))\n",
    "            self.S_db.append(np.zeros((hidden_layers[i], 1)))\n",
    "        \n",
    "        for i in range(self.max_iter):\n",
    "            self.n_iter = i\n",
    "            A, cache = self.__forward_propagation(X)\n",
    "\n",
    "            cost = self.compute_cost(A, Y)\n",
    "\n",
    "            grads = self.__backward_propagation(X, Y, cache)\n",
    "\n",
    "            self.__update_parameters(grads)\n",
    "            \n",
    "            cost_history.append(cost)\n",
    "            \n",
    "            if print_cost and i % 100 == 0:\n",
    "                print(\"{}-th iteration: {}\".format(i, cost))\n",
    "\n",
    "            if i % 100 == 0:\n",
    "                costs.append(cost)\n",
    "  \n",
    "            if i > 1 and abs(cost-cost_history[-2]) < self.tol:\n",
    "                print(\"jjjjj\")\n",
    "                break\n",
    "\n",
    "        if print_cost:\n",
    "            plt.plot(costs)\n",
    "            plt.ylabel(\"Cost\")\n",
    "            plt.xlabel(\"Iteration, *100\")\n",
    "            plt.show()\n",
    "    \n",
    "    def predict_proba(self, X_vert):\n",
    "        X = X_vert.T\n",
    "        if self.normalize:\n",
    "            X, _, _ = self.__normalize(X, self.__mean, self.__std)\n",
    "        \n",
    "        probs = self.__forward_propagation(X)[0]\n",
    "        \n",
    "        return probs.T\n",
    "    \n",
    "    def predict(self, X_vert):\n",
    "        positive_probs = self.predict_proba(X_vert)\n",
    "        y_pred = self.to_classlabel(positive_probs)\n",
    "        return y_pred  \n",
    "\n",
    "    def to_classlabel(self, z):\n",
    "        return z.argmax(axis=1)"
   ]
  },
  {
   "cell_type": "code",
   "execution_count": 3,
   "metadata": {
    "scrolled": true
   },
   "outputs": [
    {
     "data": {
      "text/html": [
       "<div>\n",
       "<style scoped>\n",
       "    .dataframe tbody tr th:only-of-type {\n",
       "        vertical-align: middle;\n",
       "    }\n",
       "\n",
       "    .dataframe tbody tr th {\n",
       "        vertical-align: top;\n",
       "    }\n",
       "\n",
       "    .dataframe thead th {\n",
       "        text-align: right;\n",
       "    }\n",
       "</style>\n",
       "<table border=\"1\" class=\"dataframe\">\n",
       "  <thead>\n",
       "    <tr style=\"text-align: right;\">\n",
       "      <th></th>\n",
       "      <th>label</th>\n",
       "      <th>pixel0</th>\n",
       "      <th>pixel1</th>\n",
       "      <th>pixel2</th>\n",
       "      <th>pixel3</th>\n",
       "      <th>pixel4</th>\n",
       "      <th>pixel5</th>\n",
       "      <th>pixel6</th>\n",
       "      <th>pixel7</th>\n",
       "      <th>pixel8</th>\n",
       "      <th>...</th>\n",
       "      <th>pixel774</th>\n",
       "      <th>pixel775</th>\n",
       "      <th>pixel776</th>\n",
       "      <th>pixel777</th>\n",
       "      <th>pixel778</th>\n",
       "      <th>pixel779</th>\n",
       "      <th>pixel780</th>\n",
       "      <th>pixel781</th>\n",
       "      <th>pixel782</th>\n",
       "      <th>pixel783</th>\n",
       "    </tr>\n",
       "  </thead>\n",
       "  <tbody>\n",
       "    <tr>\n",
       "      <th>0</th>\n",
       "      <td>1</td>\n",
       "      <td>0</td>\n",
       "      <td>0</td>\n",
       "      <td>0</td>\n",
       "      <td>0</td>\n",
       "      <td>0</td>\n",
       "      <td>0</td>\n",
       "      <td>0</td>\n",
       "      <td>0</td>\n",
       "      <td>0</td>\n",
       "      <td>...</td>\n",
       "      <td>0</td>\n",
       "      <td>0</td>\n",
       "      <td>0</td>\n",
       "      <td>0</td>\n",
       "      <td>0</td>\n",
       "      <td>0</td>\n",
       "      <td>0</td>\n",
       "      <td>0</td>\n",
       "      <td>0</td>\n",
       "      <td>0</td>\n",
       "    </tr>\n",
       "    <tr>\n",
       "      <th>1</th>\n",
       "      <td>0</td>\n",
       "      <td>0</td>\n",
       "      <td>0</td>\n",
       "      <td>0</td>\n",
       "      <td>0</td>\n",
       "      <td>0</td>\n",
       "      <td>0</td>\n",
       "      <td>0</td>\n",
       "      <td>0</td>\n",
       "      <td>0</td>\n",
       "      <td>...</td>\n",
       "      <td>0</td>\n",
       "      <td>0</td>\n",
       "      <td>0</td>\n",
       "      <td>0</td>\n",
       "      <td>0</td>\n",
       "      <td>0</td>\n",
       "      <td>0</td>\n",
       "      <td>0</td>\n",
       "      <td>0</td>\n",
       "      <td>0</td>\n",
       "    </tr>\n",
       "    <tr>\n",
       "      <th>2</th>\n",
       "      <td>1</td>\n",
       "      <td>0</td>\n",
       "      <td>0</td>\n",
       "      <td>0</td>\n",
       "      <td>0</td>\n",
       "      <td>0</td>\n",
       "      <td>0</td>\n",
       "      <td>0</td>\n",
       "      <td>0</td>\n",
       "      <td>0</td>\n",
       "      <td>...</td>\n",
       "      <td>0</td>\n",
       "      <td>0</td>\n",
       "      <td>0</td>\n",
       "      <td>0</td>\n",
       "      <td>0</td>\n",
       "      <td>0</td>\n",
       "      <td>0</td>\n",
       "      <td>0</td>\n",
       "      <td>0</td>\n",
       "      <td>0</td>\n",
       "    </tr>\n",
       "    <tr>\n",
       "      <th>3</th>\n",
       "      <td>4</td>\n",
       "      <td>0</td>\n",
       "      <td>0</td>\n",
       "      <td>0</td>\n",
       "      <td>0</td>\n",
       "      <td>0</td>\n",
       "      <td>0</td>\n",
       "      <td>0</td>\n",
       "      <td>0</td>\n",
       "      <td>0</td>\n",
       "      <td>...</td>\n",
       "      <td>0</td>\n",
       "      <td>0</td>\n",
       "      <td>0</td>\n",
       "      <td>0</td>\n",
       "      <td>0</td>\n",
       "      <td>0</td>\n",
       "      <td>0</td>\n",
       "      <td>0</td>\n",
       "      <td>0</td>\n",
       "      <td>0</td>\n",
       "    </tr>\n",
       "    <tr>\n",
       "      <th>4</th>\n",
       "      <td>0</td>\n",
       "      <td>0</td>\n",
       "      <td>0</td>\n",
       "      <td>0</td>\n",
       "      <td>0</td>\n",
       "      <td>0</td>\n",
       "      <td>0</td>\n",
       "      <td>0</td>\n",
       "      <td>0</td>\n",
       "      <td>0</td>\n",
       "      <td>...</td>\n",
       "      <td>0</td>\n",
       "      <td>0</td>\n",
       "      <td>0</td>\n",
       "      <td>0</td>\n",
       "      <td>0</td>\n",
       "      <td>0</td>\n",
       "      <td>0</td>\n",
       "      <td>0</td>\n",
       "      <td>0</td>\n",
       "      <td>0</td>\n",
       "    </tr>\n",
       "  </tbody>\n",
       "</table>\n",
       "<p>5 rows × 785 columns</p>\n",
       "</div>"
      ],
      "text/plain": [
       "   label  pixel0  pixel1  pixel2  pixel3  pixel4  pixel5  pixel6  pixel7  \\\n",
       "0      1       0       0       0       0       0       0       0       0   \n",
       "1      0       0       0       0       0       0       0       0       0   \n",
       "2      1       0       0       0       0       0       0       0       0   \n",
       "3      4       0       0       0       0       0       0       0       0   \n",
       "4      0       0       0       0       0       0       0       0       0   \n",
       "\n",
       "   pixel8  ...  pixel774  pixel775  pixel776  pixel777  pixel778  pixel779  \\\n",
       "0       0  ...         0         0         0         0         0         0   \n",
       "1       0  ...         0         0         0         0         0         0   \n",
       "2       0  ...         0         0         0         0         0         0   \n",
       "3       0  ...         0         0         0         0         0         0   \n",
       "4       0  ...         0         0         0         0         0         0   \n",
       "\n",
       "   pixel780  pixel781  pixel782  pixel783  \n",
       "0         0         0         0         0  \n",
       "1         0         0         0         0  \n",
       "2         0         0         0         0  \n",
       "3         0         0         0         0  \n",
       "4         0         0         0         0  \n",
       "\n",
       "[5 rows x 785 columns]"
      ]
     },
     "execution_count": 3,
     "metadata": {},
     "output_type": "execute_result"
    }
   ],
   "source": [
    "df = pd.read_csv('train.csv')\n",
    "df.head()"
   ]
  },
  {
   "cell_type": "code",
   "execution_count": 4,
   "metadata": {},
   "outputs": [
    {
     "data": {
      "text/plain": [
       "(42000, 785)"
      ]
     },
     "execution_count": 4,
     "metadata": {},
     "output_type": "execute_result"
    }
   ],
   "source": [
    "df.shape"
   ]
  },
  {
   "cell_type": "code",
   "execution_count": 5,
   "metadata": {},
   "outputs": [],
   "source": [
    "y = df[\"label\"]\n",
    "X = df.drop('label', axis = 1)"
   ]
  },
  {
   "cell_type": "code",
   "execution_count": 6,
   "metadata": {},
   "outputs": [
    {
     "data": {
      "image/png": "[encoded data removed]",
      "text/plain": [
       "<Figure size 432x288 with 4 Axes>"
      ]
     },
     "metadata": {
      "needs_background": "light"
     },
     "output_type": "display_data"
    }
   ],
   "source": [
    "fig, axs = plt.subplots(2, 2)\n",
    "axs[0, 0].imshow(X.iloc[0].values.reshape(28, 28), cmap=plt.get_cmap('gray'))\n",
    "axs[0, 1].imshow(X.iloc[4].values.reshape(28, 28), cmap=plt.get_cmap('gray'))\n",
    "axs[1, 0].imshow(X.iloc[9].values.reshape(28, 28), cmap=plt.get_cmap('gray'))\n",
    "axs[1, 1].imshow(X.iloc[28].values.reshape(28, 28), cmap=plt.get_cmap('gray'))\n",
    "plt.show()"
   ]
  },
  {
   "cell_type": "code",
   "execution_count": 7,
   "metadata": {},
   "outputs": [
    {
     "name": "stdout",
     "output_type": "stream",
     "text": [
      "Training set: X=(33600, 784), y=(33600,)\n",
      "Test set: X=(8400, 784), y=(8400,)\n"
     ]
    }
   ],
   "source": [
    "X_train, X_test, y_train, y_test = train_test_split(X, y, test_size = 0.2, random_state=42)\n",
    "print('Training set: X={}, y={}'.format(X_train.shape, y_train.shape))\n",
    "print('Test set: X={}, y={}'.format(X_test.shape, y_test.shape))"
   ]
  },
  {
   "cell_type": "code",
   "execution_count": 8,
   "metadata": {},
   "outputs": [],
   "source": [
    "#normalize\n",
    "X_train = X_train / 255\n",
    "X_test = X_test / 255"
   ]
  },
  {
   "cell_type": "code",
   "execution_count": 9,
   "metadata": {},
   "outputs": [],
   "source": [
    "# One hot encoder\n",
    "y_train = to_categorical(y_train)"
   ]
  },
  {
   "cell_type": "code",
   "execution_count": 10,
   "metadata": {},
   "outputs": [
    {
     "data": {
      "text/plain": [
       "(33600, 10)"
      ]
     },
     "execution_count": 10,
     "metadata": {},
     "output_type": "execute_result"
    }
   ],
   "source": [
    "y_train.shape"
   ]
  },
  {
   "cell_type": "code",
   "execution_count": 11,
   "metadata": {},
   "outputs": [],
   "source": [
    "cls = NeuralNet(normalize = False, learning_rate = 0.1, max_iter = 1000, hidden_layer_sizes=(50,), beta = 0.999, epsilon=1e-8, tol=1e-8)"
   ]
  },
  {
   "cell_type": "code",
   "execution_count": 12,
   "metadata": {},
   "outputs": [
    {
     "data": {
      "text/plain": [
       "2"
      ]
     },
     "execution_count": 12,
     "metadata": {},
     "output_type": "execute_result"
    }
   ],
   "source": [
    "cls.n_layers"
   ]
  },
  {
   "cell_type": "code",
   "execution_count": 13,
   "metadata": {
    "scrolled": false
   },
   "outputs": [
    {
     "name": "stdout",
     "output_type": "stream",
     "text": [
      "0-th iteration: 0.23998284960196148\n"
     ]
    },
    {
     "name": "stderr",
     "output_type": "stream",
     "text": [
      "c:\\users\\hp\\appdata\\local\\programs\\python\\python37\\lib\\site-packages\\ipykernel_launcher.py:26: RuntimeWarning: overflow encountered in exp\n",
      "c:\\users\\hp\\appdata\\local\\programs\\python\\python37\\lib\\site-packages\\ipykernel_launcher.py:71: RuntimeWarning: overflow encountered in exp\n"
     ]
    },
    {
     "name": "stdout",
     "output_type": "stream",
     "text": [
      "100-th iteration: 0.12679134269379033\n",
      "200-th iteration: 0.1019938721651009\n",
      "300-th iteration: 0.06929158946424169\n",
      "400-th iteration: 0.052040000159593994\n",
      "500-th iteration: 0.04612215703778185\n",
      "600-th iteration: 0.045978733620737455\n",
      "700-th iteration: 0.04593770235349449\n",
      "800-th iteration: 0.038922457150375823\n",
      "900-th iteration: 0.03650407350882102\n"
     ]
    },
    {
     "data": {
      "image/png": "[encoded data removed]",
      "text/plain": [
       "<Figure size 432x288 with 1 Axes>"
      ]
     },
     "metadata": {
      "needs_background": "light"
     },
     "output_type": "display_data"
    }
   ],
   "source": [
    "cls.fit(X_train, y_train)"
   ]
  },
  {
   "cell_type": "code",
   "execution_count": 14,
   "metadata": {},
   "outputs": [
    {
     "data": {
      "text/plain": [
       "999"
      ]
     },
     "execution_count": 14,
     "metadata": {},
     "output_type": "execute_result"
    }
   ],
   "source": [
    "cls.n_iter"
   ]
  },
  {
   "cell_type": "code",
   "execution_count": 15,
   "metadata": {},
   "outputs": [
    {
     "name": "stdout",
     "output_type": "stream",
     "text": [
      "{'W': [array([[ 0.05801233, -0.02184844, -0.01886328, ..., -0.03952047,\n",
      "        -0.01282943,  0.01804935],\n",
      "       [ 0.04349789, -0.06931003, -0.02879208, ...,  0.00740107,\n",
      "        -0.05121538,  0.02238951],\n",
      "       [ 0.01070804, -0.06630862, -0.07682297, ..., -0.06979256,\n",
      "         0.00665085, -0.00013678],\n",
      "       ...,\n",
      "       [-0.01888887, -0.01178202,  0.00488721, ..., -0.00135933,\n",
      "         0.01519459,  0.0302878 ],\n",
      "       [-0.00011539, -0.02882183, -0.0291148 , ..., -0.00321773,\n",
      "         0.0026965 , -0.02912119],\n",
      "       [-0.01333235, -0.05263958,  0.05322715, ...,  0.02176674,\n",
      "        -0.0006411 ,  0.030889  ]]), array([[-2.68796373e+00, -2.94321179e+00,  1.15626666e+00,\n",
      "         6.00547510e+00,  2.48809378e-03, -3.19520985e+00,\n",
      "        -2.04296986e-01, -4.96124242e-01,  6.03144696e+00,\n",
      "        -2.02474262e-01, -2.90371419e+00, -2.20870397e+00,\n",
      "        -9.03690506e-02, -4.84954831e+00, -8.88450731e-01,\n",
      "        -1.66477990e+00,  4.59317982e-02, -3.00160958e+00,\n",
      "        -3.16938154e+00,  5.93508310e+00, -2.49960838e+00,\n",
      "        -2.95260493e+00, -2.30700578e+00,  5.90075678e+00,\n",
      "        -3.08367559e+00, -3.03822171e+00, -3.14231564e+00,\n",
      "        -3.02338903e+00, -5.90490456e+00, -4.29822546e-01,\n",
      "        -3.21199265e+00, -3.05437243e+00, -3.32568656e+00,\n",
      "        -1.01889036e+00, -3.16145369e+00, -3.67436896e+00,\n",
      "        -3.31584518e+00, -2.73279480e+00,  2.07255650e+00,\n",
      "        -6.25690703e-01, -3.14593358e+00, -2.87275427e-01,\n",
      "        -5.45242459e-01, -5.65668451e-01, -6.50463388e-01,\n",
      "        -3.14230390e+00, -2.24699267e-01, -2.90144975e+00,\n",
      "         1.78611794e+00, -3.13290686e+00],\n",
      "       [ 2.30128267e+00,  2.81510801e+00,  2.73225580e+00,\n",
      "         3.43093930e+00, -1.36508043e-01,  3.01399793e+00,\n",
      "         4.37325064e-01,  2.20496242e+00,  3.48646519e+00,\n",
      "         6.28308785e+00,  2.93907109e+00,  2.48871115e+00,\n",
      "         1.03936974e+00,  2.71537504e+00,  3.15898909e+00,\n",
      "         2.23726203e+00,  2.88158187e+00,  2.92220309e+00,\n",
      "         2.97582112e+00,  3.53498446e+00,  1.65743651e+00,\n",
      "         2.89834086e+00,  2.67722412e+00,  3.54375307e+00,\n",
      "         3.13113714e+00,  3.14117633e+00,  3.05442754e+00,\n",
      "         3.14599901e+00,  3.60447890e+00,  2.72793345e+00,\n",
      "         3.15843469e+00,  3.28784766e+00,  2.10274538e+00,\n",
      "         7.93540422e-01,  3.05639244e+00,  5.37751032e+00,\n",
      "         2.73911599e+00,  2.28862272e+00, -8.74070193e-01,\n",
      "         1.04875895e+00,  3.02447496e+00,  9.22693209e-01,\n",
      "         1.57380165e+00,  4.67439183e+00,  3.31242377e-01,\n",
      "         3.29507771e+00,  1.63318497e+00, -1.51499224e-01,\n",
      "         6.16002641e-02,  3.17039936e+00],\n",
      "       [ 1.27949453e+00,  1.62851886e+00,  1.23566060e+00,\n",
      "         4.81929642e+00,  6.28353843e-02,  2.80842436e+00,\n",
      "         2.75294384e+00,  1.09654669e+00,  4.85424292e+00,\n",
      "         6.98291088e+00,  2.53125930e+00,  3.11750615e+00,\n",
      "         1.14963327e-01,  5.16275842e-01,  3.56921062e-01,\n",
      "         2.30472465e+00,  8.64360510e-04,  2.46427314e+00,\n",
      "         3.02121129e+00,  4.89407375e+00,  2.48425708e-02,\n",
      "         3.61164266e+00,  2.06878730e+00,  4.88610164e+00,\n",
      "         3.14085580e+00,  3.12729808e+00,  2.91962204e+00,\n",
      "         3.18080717e+00, -2.51092662e+00,  8.98374636e-01,\n",
      "         3.00180035e+00,  3.08238995e+00,  1.68878333e+00,\n",
      "         5.56381575e-01,  2.74602336e+00, -1.16419768e+00,\n",
      "         9.40857402e-01,  4.62659650e+00,  5.36017496e-01,\n",
      "         5.39215380e+00,  3.08861722e+00,  7.29264847e-01,\n",
      "         4.75440138e+00,  7.57594306e-01,  1.38217507e-01,\n",
      "         3.02392898e+00,  4.79030067e-01,  5.73243690e-02,\n",
      "         7.19364463e-01,  2.86662674e+00],\n",
      "       [-2.97698769e+00, -3.27291547e+00,  2.68309421e+00,\n",
      "         4.72534932e+00, -1.67544044e-01, -3.23152914e+00,\n",
      "        -2.81034144e-01, -2.99404540e+00,  4.51217234e+00,\n",
      "         7.75873957e+00, -3.18514151e+00, -2.74811324e+00,\n",
      "        -8.89095878e-01, -3.14485572e+00, -9.73971737e-02,\n",
      "        -2.25366757e+00, -1.37461489e-01, -3.11679254e+00,\n",
      "        -3.03925774e+00,  4.73215802e+00, -1.71344297e-01,\n",
      "        -2.91760170e+00, -2.10362669e+00,  4.87527157e+00,\n",
      "        -3.28562495e+00, -3.30428873e+00, -3.06947265e+00,\n",
      "        -3.00029707e+00,  2.50313029e+00,  1.33701547e-01,\n",
      "        -3.25539180e+00, -2.95846294e+00, -2.97020491e+00,\n",
      "        -1.62588486e+00, -2.28771317e+00, -2.07974054e+00,\n",
      "         1.05352654e-01, -1.76942572e+00,  1.03943904e+00,\n",
      "        -1.16757451e+00, -3.05877626e+00, -2.55949859e-01,\n",
      "        -2.17120157e+00,  1.30585755e+00, -1.73340590e+00,\n",
      "        -3.05230627e+00, -3.19683417e+00,  2.78295270e-01,\n",
      "         1.62957819e+00, -2.84573999e+00],\n",
      "       [ 6.53733958e+00,  3.25456822e+00,  6.78089998e-01,\n",
      "         8.38683850e+00,  9.52556076e-01,  1.68296425e-01,\n",
      "         6.27828291e+00,  6.31148066e+00,  2.07419292e+00,\n",
      "         1.55699922e+00, -3.10783354e+00,  4.14113825e+00,\n",
      "         6.38125387e+00,  7.34331179e-01,  4.05523579e+00,\n",
      "         6.28905584e+00,  1.01448384e+00, -3.44470437e+00,\n",
      "         3.11784149e+00,  1.87690801e+00,  6.32416918e+00,\n",
      "        -1.97233562e+00, -1.51407000e-01,  2.11652700e+00,\n",
      "         3.09259778e+00,  3.37828067e+00, -3.25523697e+00,\n",
      "        -3.10225564e+00,  1.14877073e+00,  6.35716292e+00,\n",
      "         2.87220552e+00, -3.24727952e+00,  6.26309750e+00,\n",
      "         5.59628256e+00, -3.19370524e+00,  1.41547368e+00,\n",
      "         5.55596381e+00, -3.53205841e+00, -2.74170060e+00,\n",
      "        -1.72531202e+00,  3.14535794e+00,  3.36649083e+00,\n",
      "        -1.67894172e+00,  3.70348216e+00,  6.34292686e+00,\n",
      "         3.25636290e+00, -2.33443208e-01,  5.95446902e+00,\n",
      "         3.98384864e+00,  3.20663302e+00],\n",
      "       [ 5.85481185e+00, -2.96934503e+00,  3.27922378e+00,\n",
      "         6.72735800e+00,  3.54333139e+00, -1.45589080e+00,\n",
      "         8.37437252e-03,  6.37052674e+00,  6.64452100e+00,\n",
      "         2.09787329e+00, -3.50730187e+00,  5.82240082e+00,\n",
      "         6.20322147e+00, -2.86174007e+00, -5.64006163e-01,\n",
      "        -1.41106497e+00,  3.48611189e+00, -3.14911612e+00,\n",
      "        -3.44749494e+00,  6.64045896e+00, -2.34607660e-01,\n",
      "        -2.54170998e+00,  6.42506814e+00,  4.64016031e-01,\n",
      "        -3.10972155e+00, -3.15953101e+00, -3.07029482e+00,\n",
      "         3.08087739e+00,  1.88525905e+00,  4.03770288e+00,\n",
      "         3.03250361e+00,  2.95694306e+00, -3.10084627e+00,\n",
      "        -1.14534285e+00,  5.82712887e+00,  1.16041460e+00,\n",
      "         1.93253711e-02,  6.38785136e+00,  8.63248947e-02,\n",
      "         6.15398227e+00,  3.20064252e+00, -1.14005304e-02,\n",
      "         6.08097282e+00, -2.25237920e+00,  2.82265768e-02,\n",
      "        -3.20154719e+00,  6.29612742e+00, -1.29908727e+00,\n",
      "         4.96280671e-01, -3.27845347e+00],\n",
      "       [-1.66956291e+00, -3.05584322e+00,  3.22259380e-02,\n",
      "         5.40914404e+00, -3.82571709e-01, -3.20309579e+00,\n",
      "        -1.27958971e-01, -3.13801705e+00,  5.50757715e+00,\n",
      "        -2.12674324e+00, -2.90145932e+00, -2.05015961e+00,\n",
      "        -2.63717339e+00,  1.52530881e+00, -2.28958740e-01,\n",
      "        -1.64760166e+00,  3.74837184e-01, -3.13036873e+00,\n",
      "        -2.95529603e+00,  5.52693575e+00, -9.62736703e-01,\n",
      "        -2.69001237e+00, -3.09570733e+00,  5.50648068e+00,\n",
      "        -3.13083539e+00, -2.94636168e+00, -3.21420152e+00,\n",
      "        -2.97961267e+00, -2.71874206e+00,  3.43770468e-01,\n",
      "        -3.04654021e+00, -2.93589109e+00, -8.58643321e-01,\n",
      "        -2.21745675e+00, -3.03258405e+00, -1.71193940e+00,\n",
      "        -2.11756359e+00, -3.03540819e+00, -4.53692368e+00,\n",
      "        -1.53400855e+00, -2.95004076e+00, -3.11728602e+00,\n",
      "        -9.46171941e-01, -8.50721012e-02, -2.37128747e-01,\n",
      "        -3.19295111e+00, -3.23602576e+00, -3.07130050e+00,\n",
      "         4.13934795e-01, -3.34859342e+00],\n",
      "       [ 3.37852675e+00,  6.00415946e+00,  2.75746027e+00,\n",
      "         3.94034558e+00,  2.61466385e+00,  1.94922282e+00,\n",
      "        -5.28063137e-03,  5.88230522e+00,  3.80373395e+00,\n",
      "         6.82711813e+00,  5.05292703e+00,  2.40215464e+00,\n",
      "         3.52414738e+00, -3.87756221e+00, -2.55723161e-01,\n",
      "         1.52359687e+00,  1.86169964e-01,  4.23213911e+00,\n",
      "         3.12575534e+00,  4.23196072e+00,  8.03270091e-01,\n",
      "         2.77366558e+00,  2.73565380e+00,  4.40559914e+00,\n",
      "         3.17032607e+00,  3.11370635e+00,  3.14802674e+00,\n",
      "         3.22462689e+00, -2.48711563e+00,  2.20706122e-02,\n",
      "         3.15895494e+00,  3.40464763e+00,  4.84692854e+00,\n",
      "         3.40328076e+00,  2.99716325e+00,  5.05251874e+00,\n",
      "         1.13391817e+00,  2.72019468e+00,  3.62847861e+00,\n",
      "         1.08698018e+00,  2.96164774e+00,  7.38610696e-01,\n",
      "         1.07825881e+00,  2.81462863e-01,  5.08613660e-01,\n",
      "         2.94593186e+00,  2.20211899e+00,  8.05993639e+00,\n",
      "         3.73039162e+00,  2.89055968e+00],\n",
      "       [ 2.84798108e-01,  1.88305861e+00,  1.05156443e+00,\n",
      "         4.15746199e+00,  2.65538300e-01,  2.23303416e+00,\n",
      "         1.50127565e-01,  2.08924957e-01,  4.35387855e+00,\n",
      "         2.63457182e+00,  2.35693385e+00,  1.32249715e+00,\n",
      "         5.99089148e-02,  2.69017843e+00, -3.28598580e-02,\n",
      "         5.51830383e-01,  4.81416875e-01,  2.52989131e+00,\n",
      "         3.09606703e+00,  4.28849726e+00, -1.46095575e-01,\n",
      "         2.40080335e+00,  1.04864080e+00,  4.39611605e+00,\n",
      "         2.78279515e+00,  2.94698286e+00,  2.98914972e+00,\n",
      "         3.12362404e+00,  3.14206201e+00,  3.02189995e-02,\n",
      "         3.03113150e+00,  3.03114727e+00,  4.05037947e-01,\n",
      "        -2.15024089e-01,  2.94075714e+00, -4.97150597e-01,\n",
      "        -1.94181193e-02,  1.55073604e+00,  2.00640079e+00,\n",
      "         1.83160191e-01,  3.04413827e+00,  1.72693532e-01,\n",
      "         2.34351543e-01,  4.66481718e-02, -6.52016249e-02,\n",
      "         3.06186000e+00,  1.68021888e-01, -2.19117683e+00,\n",
      "         8.06890645e-01,  3.06667152e+00],\n",
      "       [ 4.89657313e-02,  5.03820873e-01,  1.36019332e+00,\n",
      "         7.57066376e+00,  1.09163698e+00, -2.18569060e+00,\n",
      "        -7.55898556e-01, -2.10682783e-01,  1.53891056e+00,\n",
      "         1.49390793e+00, -3.49893738e+00, -2.16958067e+00,\n",
      "        -8.69216919e-02, -2.45307846e-01, -9.06516481e-02,\n",
      "         6.20999955e+00,  6.49051512e-01,  1.93695050e+00,\n",
      "        -3.02281005e+00,  1.28233057e+00,  6.32075578e+00,\n",
      "        -2.98258220e+00,  5.84857756e+00,  7.83017512e+00,\n",
      "         3.54182683e+00,  3.51567055e+00, -2.98016172e+00,\n",
      "        -2.76492308e+00,  1.25799838e+00,  6.15969638e-02,\n",
      "        -3.09433366e+00, -3.21909566e+00, -1.22170914e-02,\n",
      "         6.65254147e+00, -3.21854811e+00,  2.70815231e+00,\n",
      "         6.15313634e+00, -3.04136071e+00,  4.52930324e+00,\n",
      "        -3.24196291e+00, -3.15211979e+00,  3.77212031e+00,\n",
      "        -2.46829655e+00,  6.30882690e+00,  6.21428147e+00,\n",
      "        -3.09086719e+00,  1.22939048e-01,  6.25403031e+00,\n",
      "         8.11241120e+00, -3.13809752e+00]])], 'b': [array([[-5.97425271e+00],\n",
      "       [-3.24485008e+00],\n",
      "       [-1.10204088e+00],\n",
      "       [ 3.16211879e+00],\n",
      "       [-2.52413498e+00],\n",
      "       [-6.13662507e+00],\n",
      "       [-6.23783146e+00],\n",
      "       [-6.26789272e+00],\n",
      "       [ 3.16216211e+00],\n",
      "       [-4.88749095e+00],\n",
      "       [-3.18396255e+00],\n",
      "       [-4.64653267e+00],\n",
      "       [-1.08081349e-02],\n",
      "       [-6.63858547e+00],\n",
      "       [-1.19052214e+00],\n",
      "       [-5.21610721e+00],\n",
      "       [-1.76117550e+00],\n",
      "       [-3.16204936e+00],\n",
      "       [-3.16216539e+00],\n",
      "       [ 3.16209283e+00],\n",
      "       [-3.01493923e-01],\n",
      "       [-3.70129612e+00],\n",
      "       [-5.30419749e+00],\n",
      "       [ 3.16461298e+00],\n",
      "       [-3.16212679e+00],\n",
      "       [-3.40954278e+00],\n",
      "       [-3.16210884e+00],\n",
      "       [-3.38320917e+00],\n",
      "       [-1.83982578e+00],\n",
      "       [-2.55610658e+00],\n",
      "       [-3.16190582e+00],\n",
      "       [-3.16207759e+00],\n",
      "       [-6.26169106e+00],\n",
      "       [-6.13667661e-01],\n",
      "       [-3.87468401e+00],\n",
      "       [-1.79676451e+00],\n",
      "       [-6.31269186e+00],\n",
      "       [-5.33746004e+00],\n",
      "       [-2.04233514e+01],\n",
      "       [-6.17997033e+00],\n",
      "       [-3.17231650e+00],\n",
      "       [-6.15469982e+00],\n",
      "       [-5.91833811e+00],\n",
      "       [-1.97268561e+00],\n",
      "       [-6.30162809e+00],\n",
      "       [-3.16190572e+00],\n",
      "       [-6.13128227e+00],\n",
      "       [ 4.10877871e+00],\n",
      "       [-1.08768930e+00],\n",
      "       [-3.41014254e+00]]), array([[4.88220581],\n",
      "       [3.6340608 ],\n",
      "       [4.94858413],\n",
      "       [4.75525403],\n",
      "       [8.35516429],\n",
      "       [6.57719181],\n",
      "       [5.15733343],\n",
      "       [4.25394963],\n",
      "       [4.14425788],\n",
      "       [1.44628309]])]}\n"
     ]
    }
   ],
   "source": [
    "print(cls.parameters)"
   ]
  },
  {
   "cell_type": "code",
   "execution_count": 16,
   "metadata": {},
   "outputs": [
    {
     "name": "stdout",
     "output_type": "stream",
     "text": [
      "(8400, 10)\n"
     ]
    },
    {
     "name": "stderr",
     "output_type": "stream",
     "text": [
      "c:\\users\\hp\\appdata\\local\\programs\\python\\python37\\lib\\site-packages\\ipykernel_launcher.py:26: RuntimeWarning: overflow encountered in exp\n"
     ]
    }
   ],
   "source": [
    "Y_prob = cls.predict_proba(X_test)\n",
    "print(Y_prob.shape)"
   ]
  },
  {
   "cell_type": "code",
   "execution_count": 17,
   "metadata": {},
   "outputs": [
    {
     "data": {
      "text/plain": [
       "array([[4.05936259e-03, 8.61594558e-04, 2.29085832e-02, ...,\n",
       "        6.57813708e-06, 3.11280159e-02, 2.08580369e-04],\n",
       "       [4.63276505e-10, 9.94302527e-01, 6.17391376e-04, ...,\n",
       "        7.74544419e-05, 1.82441612e-03, 2.18075392e-05],\n",
       "       [5.17669509e-05, 8.45446150e-06, 8.22938265e-05, ...,\n",
       "        1.28344121e-01, 5.04253798e-04, 8.35075173e-01],\n",
       "       ...,\n",
       "       [3.66748715e-05, 2.51048404e-04, 3.99279594e-03, ...,\n",
       "        1.78293564e-03, 2.99647763e-03, 3.40876091e-04],\n",
       "       [9.67650886e-01, 7.49188261e-07, 2.67958912e-03, ...,\n",
       "        1.36535538e-03, 5.45506613e-04, 1.27763851e-03],\n",
       "       [5.50081618e-04, 1.66317634e-05, 6.88744633e-03, ...,\n",
       "        1.29654219e-01, 1.51684159e-03, 8.34084499e-01]])"
      ]
     },
     "execution_count": 17,
     "metadata": {},
     "output_type": "execute_result"
    }
   ],
   "source": [
    "Y_prob"
   ]
  },
  {
   "cell_type": "code",
   "execution_count": 18,
   "metadata": {},
   "outputs": [
    {
     "name": "stdout",
     "output_type": "stream",
     "text": [
      "0.004059362590401764\n",
      "0.0008615945581542784\n",
      "0.022908583246889228\n",
      "0.0007618747720441744\n",
      "0.012558404475115071\n",
      "0.028047334792486486\n",
      "0.8994596711504279\n",
      "6.578137082375212e-06\n",
      "0.031128015908074347\n",
      "0.00020858036932439996\n"
     ]
    }
   ],
   "source": [
    "for i in range(len(Y_prob[0])):\n",
    "    print((Y_prob[0][i]))"
   ]
  },
  {
   "cell_type": "code",
   "execution_count": 19,
   "metadata": {},
   "outputs": [
    {
     "data": {
      "text/plain": [
       "1.0"
      ]
     },
     "execution_count": 19,
     "metadata": {},
     "output_type": "execute_result"
    }
   ],
   "source": [
    "Y_prob[0][0:10].sum()"
   ]
  },
  {
   "cell_type": "code",
   "execution_count": 20,
   "metadata": {},
   "outputs": [
    {
     "name": "stderr",
     "output_type": "stream",
     "text": [
      "c:\\users\\hp\\appdata\\local\\programs\\python\\python37\\lib\\site-packages\\ipykernel_launcher.py:26: RuntimeWarning: overflow encountered in exp\n"
     ]
    },
    {
     "data": {
      "text/plain": [
       "array([6, 1, 9, ..., 3, 0, 9], dtype=int64)"
      ]
     },
     "execution_count": 20,
     "metadata": {},
     "output_type": "execute_result"
    }
   ],
   "source": [
    "Y_hat = cls.predict(X_test)\n",
    "Y_hat"
   ]
  },
  {
   "cell_type": "code",
   "execution_count": 21,
   "metadata": {},
   "outputs": [
    {
     "data": {
      "text/plain": [
       "0.8808333333333334"
      ]
     },
     "execution_count": 21,
     "metadata": {},
     "output_type": "execute_result"
    }
   ],
   "source": [
    "accuracy_score(y_test, Y_hat)"
   ]
  },
  {
   "cell_type": "code",
   "execution_count": null,
   "metadata": {},
   "outputs": [],
   "source": []
  }
 ],
 "metadata": {
  "anaconda-cloud": {},
  "kernelspec": {
   "display_name": "Python 3",
   "language": "python",
   "name": "python3"
  },
  "language_info": {
   "codemirror_mode": {
    "name": "ipython",
    "version": 3
   },
   "file_extension": ".py",
   "mimetype": "text/x-python",
   "name": "python",
   "nbconvert_exporter": "python",
   "pygments_lexer": "ipython3",
   "version": "3.7.7"
  }
 },
 "nbformat": 4,
 "nbformat_minor": 1
}
